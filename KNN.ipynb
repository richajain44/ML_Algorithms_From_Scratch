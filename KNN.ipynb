{
 "cells": [
  {
   "cell_type": "markdown",
   "metadata": {},
   "source": [
    "### Implementation of KNN from Scratch\n",
    "\n",
    "Below is the implementation of K-Nearest Neighbor Algorithm\n",
    "\n",
    "KNN groups data points that are similar into K groups. These groups are created based on similarity distance as measure between the data points. \n",
    "\n",
    "For predicitng continous data point, Euclidean distances is used while for categorical data point Hamming distance is used\n",
    "\n",
    "Below are the steps in KNN Algorithm:\n",
    "1. Load the data set\n",
    "2. Divide the dataset into train and test sets\n",
    "3. For each test data set point, do the following:\n",
    "     1. Calculate the neighbors with all the train set data points. For each train instance and the test instance calculate the Euclidean distance between them. Append each of the train set and the distance into a list and sort the list. For the K-top neighbors, return the list of k-top neighbors for that test data point.\n",
    "     2. Find the most favorable class based on the K-top neighbors. Create a dict to keep count of the class and return the most counted class\n",
    "     3. Append the final most counted class i.e. prediction into a list\n",
    "4. Calculate the accuracy for each test data preidction aganist the actual value\n",
    "    "
   ]
  },
  {
   "cell_type": "code",
   "execution_count": 1,
   "metadata": {
    "collapsed": true
   },
   "outputs": [],
   "source": [
    "from sklearn import datasets\n",
    "from sklearn.model_selection import train_test_split\n",
    "import math\n",
    "import operator\n",
    "import numpy as np"
   ]
  },
  {
   "cell_type": "markdown",
   "metadata": {},
   "source": [
    "Loading the iris dataset"
   ]
  },
  {
   "cell_type": "code",
   "execution_count": 2,
   "metadata": {
    "collapsed": true
   },
   "outputs": [],
   "source": [
    "iris = datasets.load_iris()"
   ]
  },
  {
   "cell_type": "code",
   "execution_count": 3,
   "metadata": {
    "collapsed": true
   },
   "outputs": [],
   "source": [
    "X = iris.data[:, :4]\n",
    "y = iris.target"
   ]
  },
  {
   "cell_type": "code",
   "execution_count": 4,
   "metadata": {},
   "outputs": [
    {
     "data": {
      "text/plain": [
       "((150, 4), (150,))"
      ]
     },
     "execution_count": 4,
     "metadata": {},
     "output_type": "execute_result"
    }
   ],
   "source": [
    "X.shape, y.shape"
   ]
  },
  {
   "cell_type": "code",
   "execution_count": 5,
   "metadata": {
    "collapsed": true
   },
   "outputs": [],
   "source": [
    "data = np.c_[X,y]"
   ]
  },
  {
   "cell_type": "code",
   "execution_count": 6,
   "metadata": {
    "collapsed": true
   },
   "outputs": [],
   "source": [
    "train,test = train_test_split(data,test_size=0.2)"
   ]
  },
  {
   "cell_type": "code",
   "execution_count": 7,
   "metadata": {},
   "outputs": [
    {
     "data": {
      "text/plain": [
       "((120, 5), (30, 5))"
      ]
     },
     "execution_count": 7,
     "metadata": {},
     "output_type": "execute_result"
    }
   ],
   "source": [
    "train.shape, test.shape"
   ]
  },
  {
   "cell_type": "markdown",
   "metadata": {},
   "source": [
    "Function to calculate distance between data points based on Euclidean distance of similarity"
   ]
  },
  {
   "cell_type": "code",
   "execution_count": 8,
   "metadata": {
    "collapsed": true
   },
   "outputs": [],
   "source": [
    "def euclidean_distance(instance1,instance2,length):\n",
    "    distance=0\n",
    "    for x in range(length):\n",
    "        distance = distance + pow((instance1[x]-instance2[x]),2)\n",
    "    return math.sqrt(distance)"
   ]
  },
  {
   "cell_type": "markdown",
   "metadata": {},
   "source": [
    "Testing above function with toy example"
   ]
  },
  {
   "cell_type": "code",
   "execution_count": 9,
   "metadata": {},
   "outputs": [
    {
     "name": "stdout",
     "output_type": "stream",
     "text": [
      "Distance:  2.45\n"
     ]
    }
   ],
   "source": [
    "data1 = [2,2,2,'a']\n",
    "data2 = [1,4,1,'b']\n",
    "distance  = euclidean_distance(data1,data2,3)\n",
    "print('Distance: ', str(round(distance,2)))"
   ]
  },
  {
   "cell_type": "markdown",
   "metadata": {},
   "source": [
    "Calculating the neighbors"
   ]
  },
  {
   "cell_type": "code",
   "execution_count": 10,
   "metadata": {
    "collapsed": true
   },
   "outputs": [],
   "source": [
    "def getNeighbors(trainingSet,testInstance,K):\n",
    "    distances = []\n",
    "    length = len(testInstance)-1\n",
    "    for x in range(len(trainingSet)):\n",
    "        dist = euclidean_distance(testInstance, trainingSet[x],length)\n",
    "        distances.append((trainingSet[x],dist))\n",
    "    distances.sort(key=operator.itemgetter(1))\n",
    "    neighbors =[]\n",
    "    for x in range(K):\n",
    "        neighbors.append(distances[x][0])\n",
    "    return neighbors"
   ]
  },
  {
   "cell_type": "markdown",
   "metadata": {},
   "source": [
    "Testing above function with toy example"
   ]
  },
  {
   "cell_type": "code",
   "execution_count": 11,
   "metadata": {},
   "outputs": [
    {
     "name": "stdout",
     "output_type": "stream",
     "text": [
      "[[4, 4, 4, 'b']]\n"
     ]
    }
   ],
   "source": [
    "trainSet = [[2,2,2,'a'],[4,4,4,'b']]\n",
    "testSet = [5,5,5]\n",
    "k=1\n",
    "neighbors = getNeighbors(trainSet,testSet,k)\n",
    "print(neighbors)"
   ]
  },
  {
   "cell_type": "markdown",
   "metadata": {},
   "source": [
    "Calculating the responses i.e predict the final class"
   ]
  },
  {
   "cell_type": "code",
   "execution_count": 12,
   "metadata": {
    "collapsed": true
   },
   "outputs": [],
   "source": [
    "def getResponse(neighbors):\n",
    "    classVotes={}\n",
    "    for x in range(len(neighbors)):\n",
    "        response = neighbors[x][-1]\n",
    "        if response in classVotes:\n",
    "            classVotes[response] = classVotes[response]+1\n",
    "        else:\n",
    "            classVotes.update({response:1})\n",
    "    sortedVotes = sorted(classVotes.items(), key = operator.itemgetter(1),reverse=True)\n",
    "    return sortedVotes[0][0]\n",
    "    "
   ]
  },
  {
   "cell_type": "markdown",
   "metadata": {},
   "source": [
    "Testing with toy example"
   ]
  },
  {
   "cell_type": "code",
   "execution_count": 13,
   "metadata": {},
   "outputs": [
    {
     "name": "stdout",
     "output_type": "stream",
     "text": [
      "a\n"
     ]
    }
   ],
   "source": [
    "neighbors = [[2,2,2,'a'],[1,1,1,'a'],[3,3,3,'b']]\n",
    "response  = getResponse(neighbors)\n",
    "print(response)"
   ]
  },
  {
   "cell_type": "markdown",
   "metadata": {},
   "source": [
    "Calculating accuracy of predictions"
   ]
  },
  {
   "cell_type": "code",
   "execution_count": 14,
   "metadata": {
    "collapsed": true
   },
   "outputs": [],
   "source": [
    "def getAccuracy(testSet,predictions):\n",
    "    correct = 0\n",
    "    for x in range(len(testSet)):\n",
    "        if testSet[x][-1] ==  predictions[x]:\n",
    "            correct = correct + 1\n",
    "    return (correct/(len(testSet)))*100"
   ]
  },
  {
   "cell_type": "markdown",
   "metadata": {},
   "source": [
    "Testing with toy example"
   ]
  },
  {
   "cell_type": "code",
   "execution_count": 15,
   "metadata": {},
   "outputs": [
    {
     "name": "stdout",
     "output_type": "stream",
     "text": [
      "66.67\n"
     ]
    }
   ],
   "source": [
    "testSet = [[2,2,2,'a'],[1,1,1,'a'],[3,3,3,'b']]\n",
    "predictions = ['a','b','b']\n",
    "accuracy = getAccuracy(testSet,predictions)\n",
    "print(round(accuracy,2))"
   ]
  },
  {
   "cell_type": "markdown",
   "metadata": {},
   "source": [
    "Making predictions on iris dataset"
   ]
  },
  {
   "cell_type": "code",
   "execution_count": 16,
   "metadata": {},
   "outputs": [
    {
     "name": "stdout",
     "output_type": "stream",
     "text": [
      "actual 2.0 predicted 2.0\n",
      "actual 2.0 predicted 2.0\n",
      "actual 0.0 predicted 0.0\n",
      "actual 1.0 predicted 1.0\n",
      "actual 0.0 predicted 0.0\n",
      "actual 0.0 predicted 0.0\n",
      "actual 2.0 predicted 2.0\n",
      "actual 0.0 predicted 0.0\n",
      "actual 0.0 predicted 0.0\n",
      "actual 2.0 predicted 2.0\n",
      "actual 2.0 predicted 2.0\n",
      "actual 1.0 predicted 1.0\n",
      "actual 1.0 predicted 2.0\n",
      "actual 0.0 predicted 0.0\n",
      "actual 1.0 predicted 1.0\n",
      "actual 2.0 predicted 2.0\n",
      "actual 2.0 predicted 2.0\n",
      "actual 2.0 predicted 2.0\n",
      "actual 0.0 predicted 0.0\n",
      "actual 1.0 predicted 1.0\n",
      "actual 2.0 predicted 2.0\n",
      "actual 2.0 predicted 2.0\n",
      "actual 0.0 predicted 0.0\n",
      "actual 0.0 predicted 0.0\n",
      "actual 1.0 predicted 1.0\n",
      "actual 1.0 predicted 1.0\n",
      "actual 1.0 predicted 1.0\n",
      "actual 0.0 predicted 0.0\n",
      "actual 0.0 predicted 0.0\n",
      "actual 1.0 predicted 1.0\n",
      "Accuracy : 96.67\n"
     ]
    }
   ],
   "source": [
    "predictions =[]\n",
    "k=3\n",
    "for i in range(len(test)):\n",
    "    neighbors = getNeighbors(train,test[i],k)\n",
    "    result = getResponse(neighbors)\n",
    "    predictions.append(result)\n",
    "    print(\"actual \"+ str(test[i][4]) + \" predicted \" + str(result))\n",
    "accuracy = getAccuracy(test, predictions)\n",
    "print(\"Accuracy : \" + str(round(accuracy,2)))"
   ]
  },
  {
   "cell_type": "code",
   "execution_count": null,
   "metadata": {
    "collapsed": true
   },
   "outputs": [],
   "source": []
  }
 ],
 "metadata": {
  "kernelspec": {
   "display_name": "Python 3",
   "language": "python",
   "name": "python3"
  },
  "language_info": {
   "codemirror_mode": {
    "name": "ipython",
    "version": 3
   },
   "file_extension": ".py",
   "mimetype": "text/x-python",
   "name": "python",
   "nbconvert_exporter": "python",
   "pygments_lexer": "ipython3",
   "version": "3.6.3"
  }
 },
 "nbformat": 4,
 "nbformat_minor": 2
}
